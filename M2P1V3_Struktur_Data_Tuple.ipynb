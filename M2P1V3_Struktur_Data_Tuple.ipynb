{
  "nbformat": 4,
  "nbformat_minor": 0,
  "metadata": {
    "colab": {
      "name": "M2P1V3_Struktur_Data_Tuple.ipynb",
      "provenance": [],
      "authorship_tag": "ABX9TyMg1SYDrPBXGLWx+Lt3mzlD",
      "include_colab_link": true
    },
    "kernelspec": {
      "name": "python3",
      "display_name": "Python 3"
    },
    "language_info": {
      "name": "python"
    }
  },
  "cells": [
    {
      "cell_type": "markdown",
      "metadata": {
        "id": "view-in-github",
        "colab_type": "text"
      },
      "source": [
        "<a href=\"https://colab.research.google.com/github/maullindaaa/M2P1V3_Struktur_Data_Tuple/blob/main/M2P1V3_Struktur_Data_Tuple.ipynb\" target=\"_parent\"><img src=\"https://colab.research.google.com/assets/colab-badge.svg\" alt=\"Open In Colab\"/></a>"
      ]
    },
    {
      "cell_type": "markdown",
      "metadata": {
        "id": "A243kQS1A3y_"
      },
      "source": [
        "#Struktur Data Tuple\n",
        "Tuple adalah jenis dari struktur data yang tidak dapat diubah elemennya. Umumnya tuple digunakan untuk data yang bersifat sekali tulis, dan dapat dieksekusi dengan cepat. Tuple didefinisikan dengan kurung dan elemen yang dipisahkan dengan koma."
      ]
    },
    {
      "cell_type": "code",
      "metadata": {
        "colab": {
          "base_uri": "https://localhost:8080/"
        },
        "id": "vtSjyD_NBe6o",
        "outputId": "e5716615-b419-4fb6-aa2e-e2d20199b2e4"
      },
      "source": [
        "#Contoh Tuple\n",
        "T1 = (1,\"dua\",True,1+2j)\n",
        "print(\"ini adalah Tuple: \",T1)"
      ],
      "execution_count": null,
      "outputs": [
        {
          "output_type": "stream",
          "name": "stdout",
          "text": [
            "ini adalah Tuple:  (1, 'dua', True, (1+2j))\n"
          ]
        }
      ]
    },
    {
      "cell_type": "code",
      "metadata": {
        "colab": {
          "base_uri": "https://localhost:8080/"
        },
        "id": "yKu_PYJLB3Lj",
        "outputId": "a60530cc-897e-486b-de0e-fd753e3ae6d0"
      },
      "source": [
        "#Menampilkan Struktur data\n",
        "type(T1)"
      ],
      "execution_count": null,
      "outputs": [
        {
          "output_type": "execute_result",
          "data": {
            "text/plain": [
              "tuple"
            ]
          },
          "metadata": {},
          "execution_count": 2
        }
      ]
    },
    {
      "cell_type": "markdown",
      "metadata": {
        "id": "jvR9dS8eCEXM"
      },
      "source": [
        "**Latihan**"
      ]
    },
    {
      "cell_type": "code",
      "metadata": {
        "colab": {
          "base_uri": "https://localhost:8080/"
        },
        "id": "hmAXVpemCMNl",
        "outputId": "f26e08fc-636c-471d-dc8a-2986b763d1cf"
      },
      "source": [
        "#Buatlah Tuplemu sendiri\n",
        "Tuple1 = (\"HP\",False,4+1j,8)\n",
        "print(\"ini Tuple saya sendiri:\",Tuple1)\n",
        "type(Tuple1)"
      ],
      "execution_count": null,
      "outputs": [
        {
          "output_type": "stream",
          "name": "stdout",
          "text": [
            "ini Tuple saya sendiri: ('HP', False, (4+1j), 8)\n"
          ]
        },
        {
          "output_type": "execute_result",
          "data": {
            "text/plain": [
              "tuple"
            ]
          },
          "metadata": {},
          "execution_count": 10
        }
      ]
    },
    {
      "cell_type": "markdown",
      "metadata": {
        "id": "krPhzpHqDPwg"
      },
      "source": [
        "**Sifat-sifat Tuple**"
      ]
    },
    {
      "cell_type": "code",
      "metadata": {
        "colab": {
          "base_uri": "https://localhost:8080/"
        },
        "id": "GNubgZZnDXD4",
        "outputId": "26e684e4-3bb4-4605-9a55-1796d0fa6cbc"
      },
      "source": [
        "#Terurut/Ordered\n",
        "T1[0:3]"
      ],
      "execution_count": null,
      "outputs": [
        {
          "output_type": "execute_result",
          "data": {
            "text/plain": [
              "(1, 'dua', True)"
            ]
          },
          "metadata": {},
          "execution_count": 4
        }
      ]
    },
    {
      "cell_type": "code",
      "metadata": {
        "colab": {
          "base_uri": "https://localhost:8080/",
          "height": 181
        },
        "id": "2MHJhH_NDiCU",
        "outputId": "469613ba-171e-4b4e-e0b9-5178c4c7ad78"
      },
      "source": [
        "#Tidak bisa diganti/Immutable\n",
        "T1[2]=\"manusia\""
      ],
      "execution_count": null,
      "outputs": [
        {
          "output_type": "error",
          "ename": "TypeError",
          "evalue": "ignored",
          "traceback": [
            "\u001b[0;31m---------------------------------------------------------------------------\u001b[0m",
            "\u001b[0;31mTypeError\u001b[0m                                 Traceback (most recent call last)",
            "\u001b[0;32m<ipython-input-5-8a679059d6e3>\u001b[0m in \u001b[0;36m<module>\u001b[0;34m()\u001b[0m\n\u001b[1;32m      1\u001b[0m \u001b[0;31m#Tidak bisa diganti/Immutable\u001b[0m\u001b[0;34m\u001b[0m\u001b[0;34m\u001b[0m\u001b[0;34m\u001b[0m\u001b[0m\n\u001b[0;32m----> 2\u001b[0;31m \u001b[0mT1\u001b[0m\u001b[0;34m[\u001b[0m\u001b[0;36m2\u001b[0m\u001b[0;34m]\u001b[0m\u001b[0;34m=\u001b[0m\u001b[0;34m\"manusia\"\u001b[0m\u001b[0;34m\u001b[0m\u001b[0;34m\u001b[0m\u001b[0m\n\u001b[0m",
            "\u001b[0;31mTypeError\u001b[0m: 'tuple' object does not support item assignment"
          ]
        }
      ]
    },
    {
      "cell_type": "code",
      "metadata": {
        "colab": {
          "base_uri": "https://localhost:8080/"
        },
        "id": "AoWRga5pEUOh",
        "outputId": "9be95cbb-9555-473f-a9e8-6f54c734b29e"
      },
      "source": [
        "#Dapat diindeks/Slicing\n",
        "print(\"elemen kedua dari Tuple T1 adalah:\", T1[1])"
      ],
      "execution_count": null,
      "outputs": [
        {
          "output_type": "stream",
          "name": "stdout",
          "text": [
            "elemen kedua dari Tuple T1 adalah: dua\n"
          ]
        }
      ]
    },
    {
      "cell_type": "code",
      "metadata": {
        "colab": {
          "base_uri": "https://localhost:8080/"
        },
        "id": "AngnT_1cDmNX",
        "outputId": "8ade05b4-b8e3-41df-b4d1-b188e52d5c1c"
      },
      "source": [
        "#Dapat diijikan duplikasi\n",
        "T2=(3,2.4, True, 2.4)\n",
        "T2"
      ],
      "execution_count": null,
      "outputs": [
        {
          "output_type": "execute_result",
          "data": {
            "text/plain": [
              "(3, 2.4, True, 2.4)"
            ]
          },
          "metadata": {},
          "execution_count": 8
        }
      ]
    },
    {
      "cell_type": "markdown",
      "metadata": {
        "id": "BrZBzs3pEoPD"
      },
      "source": [
        "**Menggabungkan Tuple**"
      ]
    },
    {
      "cell_type": "code",
      "metadata": {
        "colab": {
          "base_uri": "https://localhost:8080/"
        },
        "id": "XmQCydlnDq1O",
        "outputId": "134b0c45-a167-40fc-fd27-60fab16c21ad"
      },
      "source": [
        "T3 = T1 + T2\n",
        "T3"
      ],
      "execution_count": null,
      "outputs": [
        {
          "output_type": "execute_result",
          "data": {
            "text/plain": [
              "(1, 'dua', True, (1+2j), 3, 2.4, True, 2.4)"
            ]
          },
          "metadata": {},
          "execution_count": 9
        }
      ]
    },
    {
      "cell_type": "markdown",
      "metadata": {
        "id": "SrnMVnLRE8Su"
      },
      "source": [
        "**Latihan 2**"
      ]
    },
    {
      "cell_type": "code",
      "metadata": {
        "colab": {
          "base_uri": "https://localhost:8080/"
        },
        "id": "gNlSJ5TYE_wt",
        "outputId": "2c11fd8d-b355-4a52-cdf5-d5b1284e9fb0"
      },
      "source": [
        "#Buatlah tuple kedua lalu gabungkan 2 tuple yang telah kamu buat\n",
        "Tuple2 = (8.9,True,8,1)\n",
        "Gabung = Tuple1 +Tuple2\n",
        "Gabung"
      ],
      "execution_count": null,
      "outputs": [
        {
          "output_type": "execute_result",
          "data": {
            "text/plain": [
              "('HP', False, (4+1j), 8, 8.9, True, 8, 1)"
            ]
          },
          "metadata": {},
          "execution_count": 12
        }
      ]
    }
  ]
}